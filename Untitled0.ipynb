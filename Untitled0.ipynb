{
  "nbformat": 4,
  "nbformat_minor": 0,
  "metadata": {
    "colab": {
      "name": "Untitled0.ipynb",
      "provenance": [],
      "authorship_tag": "ABX9TyN2tcVJYyZEBhL6YnNhzBIE",
      "include_colab_link": true
    },
    "kernelspec": {
      "name": "python3",
      "display_name": "Python 3"
    }
  },
  "cells": [
    {
      "cell_type": "markdown",
      "metadata": {
        "id": "view-in-github",
        "colab_type": "text"
      },
      "source": [
        "<a href=\"https://colab.research.google.com/github/TDest1n/Python-Fundaz/blob/master/Untitled0.ipynb\" target=\"_parent\"><img src=\"https://colab.research.google.com/assets/colab-badge.svg\" alt=\"Open In Colab\"/></a>"
      ]
    },
    {
      "cell_type": "code",
      "metadata": {
        "id": "zbMUD9QqzCyC",
        "colab_type": "code",
        "colab": {
          "base_uri": "https://localhost:8080/",
          "height": 129
        },
        "outputId": "5fed6d55-39ad-47b2-8256-0845cec25279"
      },
      "source": [
        "python collab"
      ],
      "execution_count": 1,
      "outputs": [
        {
          "output_type": "error",
          "ename": "SyntaxError",
          "evalue": "ignored",
          "traceback": [
            "\u001b[0;36m  File \u001b[0;32m\"<ipython-input-1-2255068077f3>\"\u001b[0;36m, line \u001b[0;32m1\u001b[0m\n\u001b[0;31m    python collab\u001b[0m\n\u001b[0m                ^\u001b[0m\n\u001b[0;31mSyntaxError\u001b[0m\u001b[0;31m:\u001b[0m invalid syntax\n"
          ]
        }
      ]
    },
    {
      "cell_type": "markdown",
      "metadata": {
        "id": "kZZAQSROzQPA",
        "colab_type": "text"
      },
      "source": [
        "Integer = Number\n",
        "Float   = Numbers with Decimals\n",
        "String = Sequence of Character (Words,letters,numbers,integers,floats, and etc.)\n",
        "Object = All Characters (Strings and Objects have become synonymous)\n",
        "List = A sequence of objects/strings...Example: me = (Terrance, 19 ALL)\n",
        "\n",
        "##Brackets = Make It A List[Means you can change values within the variable aka mutable]\n",
        "#Tuple = Parenthesis (Means yous cannot change values within variable unless you recreate variable)\n",
        "\n",
        "\n"
      ]
    },
    {
      "cell_type": "markdown",
      "metadata": {
        "id": "cvNLmqXC1X86",
        "colab_type": "text"
      },
      "source": [
        "Mean = Average of values\n",
        "\n",
        "STD = Standard Deviation\n",
        "\n",
        "#Features = Column Names\n",
        "\n",
        "Sets = Unordered Collections\n",
        "\n",
        "Min = Minimum Column \n",
        "\n",
        "Max = Maximun Column Values\n",
        "\n",
        "\n",
        "One Hot Encoding = Converts text and strings to numbers for Machine Learning\n",
        "\n",
        "Attributes = Data within Rows of the Features\n",
        "Scipy = Solves High Level Math\n",
        "Equations\n",
        "Numpy = helps Python\n",
        "perform fast mathematical operations\n",
        "Pandas = Python Library to easy \n",
        "indexing\n",
        "Mode = Value that appears most often\n",
        "Median = Middle Value of Data "
      ]
    },
    {
      "cell_type": "code",
      "metadata": {
        "id": "CLbycu7w3dy0",
        "colab_type": "code",
        "colab": {}
      },
      "source": [
        ""
      ],
      "execution_count": 0,
      "outputs": []
    },
    {
      "cell_type": "code",
      "metadata": {
        "id": "nBUwNO_d5puT",
        "colab_type": "code",
        "colab": {}
      },
      "source": [
        "def handle (number):\n",
        "  return number * 4\n",
        "\n",
        "  print (handle(87))"
      ],
      "execution_count": 0,
      "outputs": []
    },
    {
      "cell_type": "code",
      "metadata": {
        "id": "rQzuEnFp2ZRa",
        "colab_type": "code",
        "colab": {
          "base_uri": "https://localhost:8080/",
          "height": 85
        },
        "outputId": "b1d1822e-ba0d-4645-c18c-625a9972940e"
      },
      "source": [
        "#Simple math examples \n",
        "print (5/5)\n",
        "print(6+5)\n",
        "print(9-3)\n",
        "print(8*987)\n",
        "\n",
        "\n"
      ],
      "execution_count": 2,
      "outputs": [
        {
          "output_type": "stream",
          "text": [
            "1.0\n",
            "11\n",
            "6\n",
            "7896\n"
          ],
          "name": "stdout"
        }
      ]
    },
    {
      "cell_type": "code",
      "metadata": {
        "id": "TzxXm4u63sWs",
        "colab_type": "code",
        "colab": {
          "base_uri": "https://localhost:8080/",
          "height": 85
        },
        "outputId": "5097b349-3238-4608-c00a-32769f1fb07b"
      },
      "source": [
        "# More match and Numbers \n",
        "B = 24\n",
        "W = 81\n",
        "\n",
        "print ('Sum:', B+W)\n",
        "print('Difference:', B-W)\n",
        "print('Product:',B*W)\n",
        "print('Quotient:', B/W)"
      ],
      "execution_count": 8,
      "outputs": [
        {
          "output_type": "stream",
          "text": [
            "Sum: 105\n",
            "Difference: -57\n",
            "Product: 1944\n",
            "Quotient: 0.2962962962962963\n"
          ],
          "name": "stdout"
        }
      ]
    },
    {
      "cell_type": "markdown",
      "metadata": {
        "id": "l9iXOeOO5M3i",
        "colab_type": "text"
      },
      "source": [
        "# Here "
      ]
    },
    {
      "cell_type": "markdown",
      "metadata": {
        "id": "7q0OMPM62sQH",
        "colab_type": "text"
      },
      "source": [
        ""
      ]
    },
    {
      "cell_type": "code",
      "metadata": {
        "id": "hWJ00sig7FJO",
        "colab_type": "code",
        "colab": {
          "base_uri": "https://localhost:8080/",
          "height": 102
        },
        "outputId": "977c860d-026c-421f-ef3b-56e2b83c64a8"
      },
      "source": [
        "toothpick_count = int(input('How many toothpicks are in the box?'))\n",
        "print (\"There are {} matches in the box.\".format(toothpick_count))\n",
        "\n",
        "if input(\"Do you think you will need additional\") == \"yes\":\n",
        "   removed_toothpicks = int(input(\"Ok, how much more?\"))\n",
        "   toothpick_count = toothpick_count - removed_toothpicks\n",
        "   print('There are  now {} toothpicks in the assortment and thanks for shopping today!'.format(toothpick_count))\n",
        "else:\n",
        "   print (\"ok, thanks for stopping by.\".format(toothpick_count))\n",
        "\n",
        "  "
      ],
      "execution_count": 21,
      "outputs": [
        {
          "output_type": "stream",
          "text": [
            "How many toothpicks are in the box?12\n",
            "There are 12 matches in the box.\n",
            "Do you think you will need additionalyes\n",
            "Ok, how much more?11\n",
            "There are  now 1 toothpicks in the assortment and thanks for shopping today!\n"
          ],
          "name": "stdout"
        }
      ]
    }
  ]
}